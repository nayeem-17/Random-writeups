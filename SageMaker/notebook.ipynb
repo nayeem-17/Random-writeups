{
 "cells": [
  {
   "cell_type": "markdown",
   "id": "3f671160",
   "metadata": {
    "papermill": {
     "duration": 0.015187,
     "end_time": "2022-09-25T14:39:39.006840",
     "exception": false,
     "start_time": "2022-09-25T14:39:38.991653",
     "status": "completed"
    },
    "tags": []
   },
   "source": [
    "# Spaceship Titanic\n",
    "_**Predict which passengers are transported to an alternate dimension**_\n",
    "\n",
    "## Table of Content\n",
    "\n",
    "1. [Importing Libraries and Data](#import)\n",
    "2. [Exploratory Data Analysis](#import)\n",
    "    - [Group ID from PassengerID](#Group)\n",
    "    - [Homeplanet](#Homeplanet)\n",
    "    - [CryoSleep](#CryoSleep)\n",
    "    - [Deck from Cabin](#Deck)\n",
    "    - [CabinNumber from Cabin](#Cabin)\n",
    "    - [Side from Cabin](#Side)\n",
    "    - [Destination](#Destination)\n",
    "    - [Age](#Age)\n",
    "    - [Vip](#Vip)\n",
    "    - [Total Luxary Cost](#totalCost)\n",
    "3. [Handling Missing Values](#missing-values)\n",
    "4. [Final Feature Selection](#Feature)\n",
    "5. [Pipeline](#pipeline)\n",
    "6. [Model Fitting and Prediction](#fitting)"
   ]
  },
  {
   "cell_type": "markdown",
   "id": "082c4676",
   "metadata": {
    "papermill": {
     "duration": 0.013353,
     "end_time": "2022-09-25T14:39:39.034352",
     "exception": false,
     "start_time": "2022-09-25T14:39:39.020999",
     "status": "completed"
    },
    "tags": []
   },
   "source": [
    "<a id='import'></a>\n",
    "## Importing Libraries and Data"
   ]
  },
  {
   "cell_type": "code",
   "execution_count": 1,
   "id": "7299ba97",
   "metadata": {
    "_cell_guid": "b1076dfc-b9ad-4769-8c92-a6c4dae69d19",
    "_uuid": "8f2839f25d086af736a60e9eeb907d3b93b6e0e5",
    "execution": {
     "iopub.execute_input": "2022-09-25T14:39:39.066129Z",
     "iopub.status.busy": "2022-09-25T14:39:39.065054Z",
     "iopub.status.idle": "2022-09-25T14:39:40.634540Z",
     "shell.execute_reply": "2022-09-25T14:39:40.632927Z"
    },
    "papermill": {
     "duration": 1.589707,
     "end_time": "2022-09-25T14:39:40.639441",
     "exception": false,
     "start_time": "2022-09-25T14:39:39.049734",
     "status": "completed"
    },
    "tags": []
   },
   "outputs": [
    {
     "name": "stdout",
     "output_type": "stream",
     "text": [
      "/kaggle/input/spaceship-titanic/sample_submission.csv\n",
      "/kaggle/input/spaceship-titanic/train.csv\n",
      "/kaggle/input/spaceship-titanic/test.csv\n"
     ]
    }
   ],
   "source": [
    "import numpy as np # linear algebra\n",
    "import pandas as pd # data processing, CSV file I/O (e.g. pd.read_csv)\n",
    "from sklearn.model_selection import train_test_split\n",
    "import matplotlib.pyplot as plt\n",
    "import seaborn as sns\n",
    "from sklearn.impute import SimpleImputer\n",
    "from sklearn.pipeline import Pipeline\n",
    "from sklearn.preprocessing import OneHotEncoder\n",
    "from sklearn.preprocessing import StandardScaler\n",
    "from sklearn.model_selection import cross_val_score\n",
    "from sklearn.compose import ColumnTransformer\n",
    "\n",
    "\n",
    "import os\n",
    "for dirname, _, filenames in os.walk('/kaggle/input'):\n",
    "    for filename in filenames:\n",
    "        print(os.path.join(dirname, filename))"
   ]
  },
  {
   "cell_type": "code",
   "execution_count": 2,
   "id": "b22ad7f7",
   "metadata": {
    "execution": {
     "iopub.execute_input": "2022-09-25T14:39:40.670067Z",
     "iopub.status.busy": "2022-09-25T14:39:40.668909Z",
     "iopub.status.idle": "2022-09-25T14:39:40.753057Z",
     "shell.execute_reply": "2022-09-25T14:39:40.751685Z"
    },
    "papermill": {
     "duration": 0.102339,
     "end_time": "2022-09-25T14:39:40.755865",
     "exception": false,
     "start_time": "2022-09-25T14:39:40.653526",
     "status": "completed"
    },
    "tags": []
   },
   "outputs": [
    {
     "name": "stdout",
     "output_type": "stream",
     "text": [
      "(8693, 14) (4277, 13)\n"
     ]
    }
   ],
   "source": [
    "X_train = pd.read_csv('/kaggle/input/spaceship-titanic/train.csv')\n",
    "X_test = pd.read_csv('/kaggle/input/spaceship-titanic/test.csv')\n",
    "print(X_train.shape, X_test.shape)"
   ]
  },
  {
   "cell_type": "markdown",
   "id": "f611bbd4",
   "metadata": {
    "papermill": {
     "duration": 0.014468,
     "end_time": "2022-09-25T14:39:40.784804",
     "exception": false,
     "start_time": "2022-09-25T14:39:40.770336",
     "status": "completed"
    },
    "tags": []
   },
   "source": [
    "<a id='Explore'></a>\n",
    "## Exploratory Data Analysis"
   ]
  },
  {
   "cell_type": "code",
   "execution_count": 3,
   "id": "ca80f821",
   "metadata": {
    "execution": {
     "iopub.execute_input": "2022-09-25T14:39:40.815048Z",
     "iopub.status.busy": "2022-09-25T14:39:40.814205Z",
     "iopub.status.idle": "2022-09-25T14:39:40.847568Z",
     "shell.execute_reply": "2022-09-25T14:39:40.846328Z"
    },
    "papermill": {
     "duration": 0.051503,
     "end_time": "2022-09-25T14:39:40.850353",
     "exception": false,
     "start_time": "2022-09-25T14:39:40.798850",
     "status": "completed"
    },
    "tags": []
   },
   "outputs": [
    {
     "data": {
      "text/html": [
       "<div>\n",
       "<style scoped>\n",
       "    .dataframe tbody tr th:only-of-type {\n",
       "        vertical-align: middle;\n",
       "    }\n",
       "\n",
       "    .dataframe tbody tr th {\n",
       "        vertical-align: top;\n",
       "    }\n",
       "\n",
       "    .dataframe thead th {\n",
       "        text-align: right;\n",
       "    }\n",
       "</style>\n",
       "<table border=\"1\" class=\"dataframe\">\n",
       "  <thead>\n",
       "    <tr style=\"text-align: right;\">\n",
       "      <th></th>\n",
       "      <th>PassengerId</th>\n",
       "      <th>HomePlanet</th>\n",
       "      <th>CryoSleep</th>\n",
       "      <th>Cabin</th>\n",
       "      <th>Destination</th>\n",
       "      <th>Age</th>\n",
       "      <th>VIP</th>\n",
       "      <th>RoomService</th>\n",
       "      <th>FoodCourt</th>\n",
       "      <th>ShoppingMall</th>\n",
       "      <th>Spa</th>\n",
       "      <th>VRDeck</th>\n",
       "      <th>Name</th>\n",
       "      <th>Transported</th>\n",
       "    </tr>\n",
       "  </thead>\n",
       "  <tbody>\n",
       "    <tr>\n",
       "      <th>0</th>\n",
       "      <td>0001_01</td>\n",
       "      <td>Europa</td>\n",
       "      <td>False</td>\n",
       "      <td>B/0/P</td>\n",
       "      <td>TRAPPIST-1e</td>\n",
       "      <td>39.0</td>\n",
       "      <td>False</td>\n",
       "      <td>0.0</td>\n",
       "      <td>0.0</td>\n",
       "      <td>0.0</td>\n",
       "      <td>0.0</td>\n",
       "      <td>0.0</td>\n",
       "      <td>Maham Ofracculy</td>\n",
       "      <td>False</td>\n",
       "    </tr>\n",
       "    <tr>\n",
       "      <th>1</th>\n",
       "      <td>0002_01</td>\n",
       "      <td>Earth</td>\n",
       "      <td>False</td>\n",
       "      <td>F/0/S</td>\n",
       "      <td>TRAPPIST-1e</td>\n",
       "      <td>24.0</td>\n",
       "      <td>False</td>\n",
       "      <td>109.0</td>\n",
       "      <td>9.0</td>\n",
       "      <td>25.0</td>\n",
       "      <td>549.0</td>\n",
       "      <td>44.0</td>\n",
       "      <td>Juanna Vines</td>\n",
       "      <td>True</td>\n",
       "    </tr>\n",
       "    <tr>\n",
       "      <th>2</th>\n",
       "      <td>0003_01</td>\n",
       "      <td>Europa</td>\n",
       "      <td>False</td>\n",
       "      <td>A/0/S</td>\n",
       "      <td>TRAPPIST-1e</td>\n",
       "      <td>58.0</td>\n",
       "      <td>True</td>\n",
       "      <td>43.0</td>\n",
       "      <td>3576.0</td>\n",
       "      <td>0.0</td>\n",
       "      <td>6715.0</td>\n",
       "      <td>49.0</td>\n",
       "      <td>Altark Susent</td>\n",
       "      <td>False</td>\n",
       "    </tr>\n",
       "    <tr>\n",
       "      <th>3</th>\n",
       "      <td>0003_02</td>\n",
       "      <td>Europa</td>\n",
       "      <td>False</td>\n",
       "      <td>A/0/S</td>\n",
       "      <td>TRAPPIST-1e</td>\n",
       "      <td>33.0</td>\n",
       "      <td>False</td>\n",
       "      <td>0.0</td>\n",
       "      <td>1283.0</td>\n",
       "      <td>371.0</td>\n",
       "      <td>3329.0</td>\n",
       "      <td>193.0</td>\n",
       "      <td>Solam Susent</td>\n",
       "      <td>False</td>\n",
       "    </tr>\n",
       "    <tr>\n",
       "      <th>4</th>\n",
       "      <td>0004_01</td>\n",
       "      <td>Earth</td>\n",
       "      <td>False</td>\n",
       "      <td>F/1/S</td>\n",
       "      <td>TRAPPIST-1e</td>\n",
       "      <td>16.0</td>\n",
       "      <td>False</td>\n",
       "      <td>303.0</td>\n",
       "      <td>70.0</td>\n",
       "      <td>151.0</td>\n",
       "      <td>565.0</td>\n",
       "      <td>2.0</td>\n",
       "      <td>Willy Santantines</td>\n",
       "      <td>True</td>\n",
       "    </tr>\n",
       "  </tbody>\n",
       "</table>\n",
       "</div>"
      ],
      "text/plain": [
       "  PassengerId HomePlanet CryoSleep  Cabin  Destination   Age    VIP  \\\n",
       "0     0001_01     Europa     False  B/0/P  TRAPPIST-1e  39.0  False   \n",
       "1     0002_01      Earth     False  F/0/S  TRAPPIST-1e  24.0  False   \n",
       "2     0003_01     Europa     False  A/0/S  TRAPPIST-1e  58.0   True   \n",
       "3     0003_02     Europa     False  A/0/S  TRAPPIST-1e  33.0  False   \n",
       "4     0004_01      Earth     False  F/1/S  TRAPPIST-1e  16.0  False   \n",
       "\n",
       "   RoomService  FoodCourt  ShoppingMall     Spa  VRDeck               Name  \\\n",
       "0          0.0        0.0           0.0     0.0     0.0    Maham Ofracculy   \n",
       "1        109.0        9.0          25.0   549.0    44.0       Juanna Vines   \n",
       "2         43.0     3576.0           0.0  6715.0    49.0      Altark Susent   \n",
       "3          0.0     1283.0         371.0  3329.0   193.0       Solam Susent   \n",
       "4        303.0       70.0         151.0   565.0     2.0  Willy Santantines   \n",
       "\n",
       "   Transported  \n",
       "0        False  \n",
       "1         True  \n",
       "2        False  \n",
       "3        False  \n",
       "4         True  "
      ]
     },
     "execution_count": 3,
     "metadata": {},
     "output_type": "execute_result"
    }
   ],
   "source": [
    "X_train.head()"
   ]
  },
  {
   "cell_type": "code",
   "execution_count": 4,
   "id": "6f8c3cd3",
   "metadata": {
    "execution": {
     "iopub.execute_input": "2022-09-25T14:39:40.880495Z",
     "iopub.status.busy": "2022-09-25T14:39:40.880073Z",
     "iopub.status.idle": "2022-09-25T14:39:40.910982Z",
     "shell.execute_reply": "2022-09-25T14:39:40.909584Z"
    },
    "papermill": {
     "duration": 0.04989,
     "end_time": "2022-09-25T14:39:40.914293",
     "exception": false,
     "start_time": "2022-09-25T14:39:40.864403",
     "status": "completed"
    },
    "tags": []
   },
   "outputs": [
    {
     "name": "stdout",
     "output_type": "stream",
     "text": [
      "<class 'pandas.core.frame.DataFrame'>\n",
      "RangeIndex: 8693 entries, 0 to 8692\n",
      "Data columns (total 14 columns):\n",
      " #   Column        Non-Null Count  Dtype  \n",
      "---  ------        --------------  -----  \n",
      " 0   PassengerId   8693 non-null   object \n",
      " 1   HomePlanet    8492 non-null   object \n",
      " 2   CryoSleep     8476 non-null   object \n",
      " 3   Cabin         8494 non-null   object \n",
      " 4   Destination   8511 non-null   object \n",
      " 5   Age           8514 non-null   float64\n",
      " 6   VIP           8490 non-null   object \n",
      " 7   RoomService   8512 non-null   float64\n",
      " 8   FoodCourt     8510 non-null   float64\n",
      " 9   ShoppingMall  8485 non-null   float64\n",
      " 10  Spa           8510 non-null   float64\n",
      " 11  VRDeck        8505 non-null   float64\n",
      " 12  Name          8493 non-null   object \n",
      " 13  Transported   8693 non-null   bool   \n",
      "dtypes: bool(1), float64(6), object(7)\n",
      "memory usage: 891.5+ KB\n"
     ]
    }
   ],
   "source": [
    "X_train.info()"
   ]
  },
  {
   "cell_type": "code",
   "execution_count": 5,
   "id": "2fe453b1",
   "metadata": {
    "execution": {
     "iopub.execute_input": "2022-09-25T14:39:40.946022Z",
     "iopub.status.busy": "2022-09-25T14:39:40.945092Z",
     "iopub.status.idle": "2022-09-25T14:39:40.950945Z",
     "shell.execute_reply": "2022-09-25T14:39:40.949997Z"
    },
    "papermill": {
     "duration": 0.02419,
     "end_time": "2022-09-25T14:39:40.953202",
     "exception": false,
     "start_time": "2022-09-25T14:39:40.929012",
     "status": "completed"
    },
    "tags": []
   },
   "outputs": [],
   "source": [
    "def CrossTabPlot(featureName): \n",
    "    crossTabResult = pd.crosstab(index=X_train[featureName],columns=X_train['Transported'])\n",
    "    print(crossTabResult)\n",
    "    crossTabResult.plot.bar()\n",
    "    "
   ]
  },
  {
   "cell_type": "code",
   "execution_count": 6,
   "id": "a5356c8a",
   "metadata": {
    "execution": {
     "iopub.execute_input": "2022-09-25T14:39:40.983386Z",
     "iopub.status.busy": "2022-09-25T14:39:40.982652Z",
     "iopub.status.idle": "2022-09-25T14:39:40.987981Z",
     "shell.execute_reply": "2022-09-25T14:39:40.987180Z"
    },
    "papermill": {
     "duration": 0.022744,
     "end_time": "2022-09-25T14:39:40.990079",
     "exception": false,
     "start_time": "2022-09-25T14:39:40.967335",
     "status": "completed"
    },
    "tags": []
   },
   "outputs": [],
   "source": [
    "def HistPlot(featureName):\n",
    "    fig, ax1 = plt.subplots(figsize=(10, 7))\n",
    "    sns.histplot(data = X_train, x=featureName, ax=ax1, bins=25, hue='Transported', kde=True)\n",
    "    plt.show()"
   ]
  },
  {
   "cell_type": "markdown",
   "id": "4c3fa9ce",
   "metadata": {
    "papermill": {
     "duration": 0.014756,
     "end_time": "2022-09-25T14:39:41.018755",
     "exception": false,
     "start_time": "2022-09-25T14:39:41.003999",
     "status": "completed"
    },
    "tags": []
   },
   "source": [
    "<a id=\"Group\"></a>\n",
    "### Group ID from PassengerID\n",
    "\n",
    "Since family members are mostly in same group. So, Transportation rate of a group from training data might indicate Transportation likelyhood for another person from test data of that group"
   ]
  },
  {
   "cell_type": "code",
   "execution_count": 7,
   "id": "3ecc98bd",
   "metadata": {
    "execution": {
     "iopub.execute_input": "2022-09-25T14:39:41.050190Z",
     "iopub.status.busy": "2022-09-25T14:39:41.048840Z",
     "iopub.status.idle": "2022-09-25T14:39:41.108730Z",
     "shell.execute_reply": "2022-09-25T14:39:41.107451Z"
    },
    "papermill": {
     "duration": 0.078566,
     "end_time": "2022-09-25T14:39:41.111777",
     "exception": false,
     "start_time": "2022-09-25T14:39:41.033211",
     "status": "completed"
    },
    "tags": []
   },
   "outputs": [],
   "source": [
    "#Extracting Group Id from PassengerId\n",
    "X_train['Group'] = X_train['PassengerId'].str.split('_',expand=True)[0]\n",
    "X_test['Group'] = X_test['PassengerId'].str.split('_',expand=True)[0]\n",
    "\n",
    "#finding groupwise transportation rate and mapping it to group\n",
    "groupwise_transportation_rate = X_train[['Group','Transported']].groupby('Group').sum() / X_train[['Group','Transported']].groupby('Group').count()\n",
    "groupwise_transportation_rate = groupwise_transportation_rate['Transported'].to_dict()\n",
    "X_train['Group'] = X_train['Group'].map(groupwise_transportation_rate)\n",
    "X_test['Group'] = X_test['Group'].map(groupwise_transportation_rate)"
   ]
  },
  {
   "cell_type": "code",
   "execution_count": 8,
   "id": "ed511db3",
   "metadata": {
    "execution": {
     "iopub.execute_input": "2022-09-25T14:39:41.141738Z",
     "iopub.status.busy": "2022-09-25T14:39:41.141314Z",
     "iopub.status.idle": "2022-09-25T14:39:41.163007Z",
     "shell.execute_reply": "2022-09-25T14:39:41.161890Z"
    },
    "papermill": {
     "duration": 0.039988,
     "end_time": "2022-09-25T14:39:41.165924",
     "exception": false,
     "start_time": "2022-09-25T14:39:41.125936",
     "status": "completed"
    },
    "tags": []
   },
   "outputs": [
    {
     "data": {
      "text/html": [
       "<div>\n",
       "<style scoped>\n",
       "    .dataframe tbody tr th:only-of-type {\n",
       "        vertical-align: middle;\n",
       "    }\n",
       "\n",
       "    .dataframe tbody tr th {\n",
       "        vertical-align: top;\n",
       "    }\n",
       "\n",
       "    .dataframe thead th {\n",
       "        text-align: right;\n",
       "    }\n",
       "</style>\n",
       "<table border=\"1\" class=\"dataframe\">\n",
       "  <thead>\n",
       "    <tr style=\"text-align: right;\">\n",
       "      <th></th>\n",
       "      <th>PassengerId</th>\n",
       "      <th>HomePlanet</th>\n",
       "      <th>CryoSleep</th>\n",
       "      <th>Cabin</th>\n",
       "      <th>Destination</th>\n",
       "      <th>Age</th>\n",
       "      <th>VIP</th>\n",
       "      <th>RoomService</th>\n",
       "      <th>FoodCourt</th>\n",
       "      <th>ShoppingMall</th>\n",
       "      <th>Spa</th>\n",
       "      <th>VRDeck</th>\n",
       "      <th>Name</th>\n",
       "      <th>Group</th>\n",
       "    </tr>\n",
       "  </thead>\n",
       "  <tbody>\n",
       "    <tr>\n",
       "      <th>0</th>\n",
       "      <td>0013_01</td>\n",
       "      <td>Earth</td>\n",
       "      <td>True</td>\n",
       "      <td>G/3/S</td>\n",
       "      <td>TRAPPIST-1e</td>\n",
       "      <td>27.0</td>\n",
       "      <td>False</td>\n",
       "      <td>0.0</td>\n",
       "      <td>0.0</td>\n",
       "      <td>0.0</td>\n",
       "      <td>0.0</td>\n",
       "      <td>0.0</td>\n",
       "      <td>Nelly Carsoning</td>\n",
       "      <td>NaN</td>\n",
       "    </tr>\n",
       "    <tr>\n",
       "      <th>1</th>\n",
       "      <td>0018_01</td>\n",
       "      <td>Earth</td>\n",
       "      <td>False</td>\n",
       "      <td>F/4/S</td>\n",
       "      <td>TRAPPIST-1e</td>\n",
       "      <td>19.0</td>\n",
       "      <td>False</td>\n",
       "      <td>0.0</td>\n",
       "      <td>9.0</td>\n",
       "      <td>0.0</td>\n",
       "      <td>2823.0</td>\n",
       "      <td>0.0</td>\n",
       "      <td>Lerome Peckers</td>\n",
       "      <td>NaN</td>\n",
       "    </tr>\n",
       "    <tr>\n",
       "      <th>2</th>\n",
       "      <td>0019_01</td>\n",
       "      <td>Europa</td>\n",
       "      <td>True</td>\n",
       "      <td>C/0/S</td>\n",
       "      <td>55 Cancri e</td>\n",
       "      <td>31.0</td>\n",
       "      <td>False</td>\n",
       "      <td>0.0</td>\n",
       "      <td>0.0</td>\n",
       "      <td>0.0</td>\n",
       "      <td>0.0</td>\n",
       "      <td>0.0</td>\n",
       "      <td>Sabih Unhearfus</td>\n",
       "      <td>NaN</td>\n",
       "    </tr>\n",
       "    <tr>\n",
       "      <th>3</th>\n",
       "      <td>0021_01</td>\n",
       "      <td>Europa</td>\n",
       "      <td>False</td>\n",
       "      <td>C/1/S</td>\n",
       "      <td>TRAPPIST-1e</td>\n",
       "      <td>38.0</td>\n",
       "      <td>False</td>\n",
       "      <td>0.0</td>\n",
       "      <td>6652.0</td>\n",
       "      <td>0.0</td>\n",
       "      <td>181.0</td>\n",
       "      <td>585.0</td>\n",
       "      <td>Meratz Caltilter</td>\n",
       "      <td>NaN</td>\n",
       "    </tr>\n",
       "    <tr>\n",
       "      <th>4</th>\n",
       "      <td>0023_01</td>\n",
       "      <td>Earth</td>\n",
       "      <td>False</td>\n",
       "      <td>F/5/S</td>\n",
       "      <td>TRAPPIST-1e</td>\n",
       "      <td>20.0</td>\n",
       "      <td>False</td>\n",
       "      <td>10.0</td>\n",
       "      <td>0.0</td>\n",
       "      <td>635.0</td>\n",
       "      <td>0.0</td>\n",
       "      <td>0.0</td>\n",
       "      <td>Brence Harperez</td>\n",
       "      <td>NaN</td>\n",
       "    </tr>\n",
       "  </tbody>\n",
       "</table>\n",
       "</div>"
      ],
      "text/plain": [
       "  PassengerId HomePlanet CryoSleep  Cabin  Destination   Age    VIP  \\\n",
       "0     0013_01      Earth      True  G/3/S  TRAPPIST-1e  27.0  False   \n",
       "1     0018_01      Earth     False  F/4/S  TRAPPIST-1e  19.0  False   \n",
       "2     0019_01     Europa      True  C/0/S  55 Cancri e  31.0  False   \n",
       "3     0021_01     Europa     False  C/1/S  TRAPPIST-1e  38.0  False   \n",
       "4     0023_01      Earth     False  F/5/S  TRAPPIST-1e  20.0  False   \n",
       "\n",
       "   RoomService  FoodCourt  ShoppingMall     Spa  VRDeck              Name  \\\n",
       "0          0.0        0.0           0.0     0.0     0.0   Nelly Carsoning   \n",
       "1          0.0        9.0           0.0  2823.0     0.0    Lerome Peckers   \n",
       "2          0.0        0.0           0.0     0.0     0.0   Sabih Unhearfus   \n",
       "3          0.0     6652.0           0.0   181.0   585.0  Meratz Caltilter   \n",
       "4         10.0        0.0         635.0     0.0     0.0   Brence Harperez   \n",
       "\n",
       "   Group  \n",
       "0    NaN  \n",
       "1    NaN  \n",
       "2    NaN  \n",
       "3    NaN  \n",
       "4    NaN  "
      ]
     },
     "execution_count": 8,
     "metadata": {},
     "output_type": "execute_result"
    }
   ],
   "source": [
    "X_test.head()"
   ]
  },
  {
   "cell_type": "code",
   "execution_count": 9,
   "id": "a5de38db",
   "metadata": {
    "execution": {
     "iopub.execute_input": "2022-09-25T14:39:41.196219Z",
     "iopub.status.busy": "2022-09-25T14:39:41.195791Z",
     "iopub.status.idle": "2022-09-25T14:39:41.202059Z",
     "shell.execute_reply": "2022-09-25T14:39:41.200675Z"
    },
    "papermill": {
     "duration": 0.025237,
     "end_time": "2022-09-25T14:39:41.205654",
     "exception": false,
     "start_time": "2022-09-25T14:39:41.180417",
     "status": "completed"
    },
    "tags": []
   },
   "outputs": [
    {
     "name": "stdout",
     "output_type": "stream",
     "text": [
      "4277\n"
     ]
    }
   ],
   "source": [
    "print(X_test['Group'].isna().sum())"
   ]
  },
  {
   "cell_type": "markdown",
   "id": "cec8325d",
   "metadata": {
    "papermill": {
     "duration": 0.014315,
     "end_time": "2022-09-25T14:39:41.235797",
     "exception": false,
     "start_time": "2022-09-25T14:39:41.221482",
     "status": "completed"
    },
    "tags": []
   },
   "source": [
    "**conclusion:**\n",
    "\n",
    "All the group_id in test data are new. So, training the model from `GroupID` would not be a good choice. "
   ]
  },
  {
   "cell_type": "code",
   "execution_count": 10,
   "id": "2b594551",
   "metadata": {
    "execution": {
     "iopub.execute_input": "2022-09-25T14:39:41.265983Z",
     "iopub.status.busy": "2022-09-25T14:39:41.265572Z",
     "iopub.status.idle": "2022-09-25T14:39:41.276066Z",
     "shell.execute_reply": "2022-09-25T14:39:41.275045Z"
    },
    "papermill": {
     "duration": 0.02884,
     "end_time": "2022-09-25T14:39:41.278788",
     "exception": false,
     "start_time": "2022-09-25T14:39:41.249948",
     "status": "completed"
    },
    "tags": []
   },
   "outputs": [],
   "source": [
    "X_train.drop('Group',axis=1, inplace= True)\n",
    "X_test.drop('Group', axis=1, inplace= True)"
   ]
  },
  {
   "cell_type": "markdown",
   "id": "d7b249bb",
   "metadata": {
    "papermill": {
     "duration": 0.014296,
     "end_time": "2022-09-25T14:39:41.307462",
     "exception": false,
     "start_time": "2022-09-25T14:39:41.293166",
     "status": "completed"
    },
    "tags": []
   },
   "source": [
    "<a id=\"Homeplanet\"> </a>\n",
    "### Homeplanet"
   ]
  },
  {
   "cell_type": "code",
   "execution_count": 11,
   "id": "67718452",
   "metadata": {
    "execution": {
     "iopub.execute_input": "2022-09-25T14:39:41.338177Z",
     "iopub.status.busy": "2022-09-25T14:39:41.337190Z",
     "iopub.status.idle": "2022-09-25T14:39:41.623977Z",
     "shell.execute_reply": "2022-09-25T14:39:41.622761Z"
    },
    "papermill": {
     "duration": 0.305258,
     "end_time": "2022-09-25T14:39:41.626697",
     "exception": false,
     "start_time": "2022-09-25T14:39:41.321439",
     "status": "completed"
    },
    "tags": []
   },
   "outputs": [
    {
     "name": "stdout",
     "output_type": "stream",
     "text": [
      "Transported  False  True\n",
      "HomePlanet              \n",
      "Earth         2651  1951\n",
      "Europa         727  1404\n",
      "Mars           839   920\n"
     ]
    },
    {
     "data": {
      "image/png": "[encoded data removed]",
      "text/plain": [
       "<Figure size 432x288 with 1 Axes>"
      ]
     },
     "metadata": {
      "needs_background": "light"
     },
     "output_type": "display_data"
    }
   ],
   "source": [
    "CrossTabPlot('HomePlanet')"
   ]
  },
  {
   "cell_type": "markdown",
   "id": "e7f48d2f",
   "metadata": {
    "papermill": {
     "duration": 0.014361,
     "end_time": "2022-09-25T14:39:41.655626",
     "exception": false,
     "start_time": "2022-09-25T14:39:41.641265",
     "status": "completed"
    },
    "tags": []
   },
   "source": [
    "**Conclusion:**\n",
    "People in Earth is less likely to transport. \n",
    "Europa's people is more likely to transport and Marsians are neutral about transporting \n",
    "\n",
    "So, this feature sould be included while model building. "
   ]
  },
  {
   "cell_type": "markdown",
   "id": "9328d015",
   "metadata": {
    "papermill": {
     "duration": 0.014147,
     "end_time": "2022-09-25T14:39:41.684368",
     "exception": false,
     "start_time": "2022-09-25T14:39:41.670221",
     "status": "completed"
    },
    "tags": []
   },
   "source": [
    "<a id=\"CryoSleep\"> </a>\n",
    "### CryoSleep"
   ]
  },
  {
   "cell_type": "code",
   "execution_count": 12,
   "id": "900e18c6",
   "metadata": {
    "execution": {
     "iopub.execute_input": "2022-09-25T14:39:41.715142Z",
     "iopub.status.busy": "2022-09-25T14:39:41.714689Z",
     "iopub.status.idle": "2022-09-25T14:39:41.942913Z",
     "shell.execute_reply": "2022-09-25T14:39:41.941735Z"
    },
    "papermill": {
     "duration": 0.247125,
     "end_time": "2022-09-25T14:39:41.945895",
     "exception": false,
     "start_time": "2022-09-25T14:39:41.698770",
     "status": "completed"
    },
    "tags": []
   },
   "outputs": [
    {
     "name": "stdout",
     "output_type": "stream",
     "text": [
      "Transported  False  True\n",
      "CryoSleep               \n",
      "False         3650  1789\n",
      "True           554  2483\n"
     ]
    },
    {
     "data": {
      "image/png": "[encoded data removed]",
      "text/plain": [
       "<Figure size 432x288 with 1 Axes>"
      ]
     },
     "metadata": {
      "needs_background": "light"
     },
     "output_type": "display_data"
    }
   ],
   "source": [
    "CrossTabPlot('CryoSleep')"
   ]
  },
  {
   "cell_type": "markdown",
   "id": "b7113914",
   "metadata": {
    "papermill": {
     "duration": 0.014493,
     "end_time": "2022-09-25T14:39:41.976005",
     "exception": false,
     "start_time": "2022-09-25T14:39:41.961512",
     "status": "completed"
    },
    "tags": []
   },
   "source": [
    "**Conclusion:**\n",
    "People who \n",
    "took CryoSleep has a significant chance of transportation. \n",
    "So, this feature sould be included while model building. "
   ]
  },
  {
   "cell_type": "markdown",
   "id": "7a6fa813",
   "metadata": {
    "papermill": {
     "duration": 0.014535,
     "end_time": "2022-09-25T14:39:42.006403",
     "exception": false,
     "start_time": "2022-09-25T14:39:41.991868",
     "status": "completed"
    },
    "tags": []
   },
   "source": [
    "<a id='Deck'></a>\n",
    "### Exploring Deck from Cabin"
   ]
  },
  {
   "cell_type": "code",
   "execution_count": 13,
   "id": "8ecb6d4c",
   "metadata": {
    "execution": {
     "iopub.execute_input": "2022-09-25T14:39:42.037785Z",
     "iopub.status.busy": "2022-09-25T14:39:42.037338Z",
     "iopub.status.idle": "2022-09-25T14:39:42.331577Z",
     "shell.execute_reply": "2022-09-25T14:39:42.330349Z"
    },
    "papermill": {
     "duration": 0.313098,
     "end_time": "2022-09-25T14:39:42.334349",
     "exception": false,
     "start_time": "2022-09-25T14:39:42.021251",
     "status": "completed"
    },
    "tags": []
   },
   "outputs": [
    {
     "name": "stdout",
     "output_type": "stream",
     "text": [
      "Transported  False  True\n",
      "Deck                    \n",
      "A              129   127\n",
      "B              207   572\n",
      "C              239   508\n",
      "D              271   207\n",
      "E              563   313\n",
      "F             1565  1229\n",
      "G             1238  1321\n",
      "T                4     1\n"
     ]
    },
    {
     "data": {
      "image/png": "[encoded data removed]",
      "text/plain": [
       "<Figure size 432x288 with 1 Axes>"
      ]
     },
     "metadata": {
      "needs_background": "light"
     },
     "output_type": "display_data"
    }
   ],
   "source": [
    "X_train['Deck'] = X_train['Cabin'].str.split('/',expand=True)[0]\n",
    "X_test['Deck'] = X_test['Cabin'].str.split('/',expand=True)[0]\n",
    "X_train['Deck'].unique()\n",
    "CrossTabPlot('Deck')"
   ]
  },
  {
   "cell_type": "markdown",
   "id": "89c156fe",
   "metadata": {
    "papermill": {
     "duration": 0.014749,
     "end_time": "2022-09-25T14:39:42.364363",
     "exception": false,
     "start_time": "2022-09-25T14:39:42.349614",
     "status": "completed"
    },
    "tags": []
   },
   "source": [
    "**Conclusion:**\n",
    "\n",
    "People from Deck 'B' and 'C' are more likely to get Transported. So feature 'Deck' should be included in the model.  "
   ]
  },
  {
   "cell_type": "markdown",
   "id": "9d9c1c47",
   "metadata": {
    "papermill": {
     "duration": 0.014603,
     "end_time": "2022-09-25T14:39:42.393979",
     "exception": false,
     "start_time": "2022-09-25T14:39:42.379376",
     "status": "completed"
    },
    "tags": []
   },
   "source": [
    "<a id='Cabin'></a>\n",
    "### Exploring CabinNumber from Cabin"
   ]
  },
  {
   "cell_type": "code",
   "execution_count": 14,
   "id": "9ff3ffdb",
   "metadata": {
    "execution": {
     "iopub.execute_input": "2022-09-25T14:39:42.426404Z",
     "iopub.status.busy": "2022-09-25T14:39:42.425975Z",
     "iopub.status.idle": "2022-09-25T14:39:42.457771Z",
     "shell.execute_reply": "2022-09-25T14:39:42.456568Z"
    },
    "papermill": {
     "duration": 0.051224,
     "end_time": "2022-09-25T14:39:42.460213",
     "exception": false,
     "start_time": "2022-09-25T14:39:42.408989",
     "status": "completed"
    },
    "tags": []
   },
   "outputs": [
    {
     "data": {
      "text/plain": [
       "array(['0', '1', '2', ..., '1892', '1893', '1894'], dtype=object)"
      ]
     },
     "execution_count": 14,
     "metadata": {},
     "output_type": "execute_result"
    }
   ],
   "source": [
    "X_train['CabinNumber'] = X_train['Cabin'].str.split('/',expand=True)[1]\n",
    "X_test['CabinNumber'] = X_test['Cabin'].str.split('/',expand=True)[1]\n",
    "X_train['CabinNumber'].unique()"
   ]
  },
  {
   "cell_type": "code",
   "execution_count": 15,
   "id": "2560b6ea",
   "metadata": {
    "execution": {
     "iopub.execute_input": "2022-09-25T14:39:42.493310Z",
     "iopub.status.busy": "2022-09-25T14:39:42.492088Z",
     "iopub.status.idle": "2022-09-25T14:40:04.545595Z",
     "shell.execute_reply": "2022-09-25T14:40:04.544274Z"
    },
    "papermill": {
     "duration": 22.072846,
     "end_time": "2022-09-25T14:40:04.548299",
     "exception": false,
     "start_time": "2022-09-25T14:39:42.475453",
     "status": "completed"
    },
    "tags": []
   },
   "outputs": [
    {
     "data": {
      "image/png": "[encoded data removed]",
      "text/plain": [
       "<Figure size 720x504 with 1 Axes>"
      ]
     },
     "metadata": {
      "needs_background": "light"
     },
     "output_type": "display_data"
    }
   ],
   "source": [
    "HistPlot('CabinNumber')"
   ]
  },
  {
   "cell_type": "markdown",
   "id": "e7558103",
   "metadata": {
    "papermill": {
     "duration": 0.01588,
     "end_time": "2022-09-25T14:40:04.581802",
     "exception": false,
     "start_time": "2022-09-25T14:40:04.565922",
     "status": "completed"
    },
    "tags": []
   },
   "source": [
    "**Conclusion:**\n",
    "The transporter distribution and the non-transporter distribution is quite similar. So, it should not be a feature in the model.  "
   ]
  },
  {
   "cell_type": "code",
   "execution_count": 16,
   "id": "b8fd5e87",
   "metadata": {
    "execution": {
     "iopub.execute_input": "2022-09-25T14:40:04.616851Z",
     "iopub.status.busy": "2022-09-25T14:40:04.616412Z",
     "iopub.status.idle": "2022-09-25T14:40:04.629759Z",
     "shell.execute_reply": "2022-09-25T14:40:04.628086Z"
    },
    "papermill": {
     "duration": 0.034348,
     "end_time": "2022-09-25T14:40:04.632918",
     "exception": false,
     "start_time": "2022-09-25T14:40:04.598570",
     "status": "completed"
    },
    "tags": []
   },
   "outputs": [],
   "source": [
    "#dropping column\n",
    "X_train.drop('CabinNumber',axis=1, inplace= True)\n",
    "X_test.drop('CabinNumber', axis=1, inplace= True)"
   ]
  },
  {
   "cell_type": "markdown",
   "id": "7f16aeaa",
   "metadata": {
    "papermill": {
     "duration": 0.015797,
     "end_time": "2022-09-25T14:40:04.664959",
     "exception": false,
     "start_time": "2022-09-25T14:40:04.649162",
     "status": "completed"
    },
    "tags": []
   },
   "source": [
    "<a id=\"Side\"></a>\n",
    "### Exploring Side from Cabin"
   ]
  },
  {
   "cell_type": "code",
   "execution_count": 17,
   "id": "e3bf8b3b",
   "metadata": {
    "execution": {
     "iopub.execute_input": "2022-09-25T14:40:04.699266Z",
     "iopub.status.busy": "2022-09-25T14:40:04.698799Z",
     "iopub.status.idle": "2022-09-25T14:40:04.956149Z",
     "shell.execute_reply": "2022-09-25T14:40:04.954249Z"
    },
    "papermill": {
     "duration": 0.277963,
     "end_time": "2022-09-25T14:40:04.958967",
     "exception": false,
     "start_time": "2022-09-25T14:40:04.681004",
     "status": "completed"
    },
    "tags": []
   },
   "outputs": [
    {
     "name": "stdout",
     "output_type": "stream",
     "text": [
      "Transported  False  True\n",
      "Side                    \n",
      "P             2308  1898\n",
      "S             1908  2380\n"
     ]
    },
    {
     "data": {
      "image/png": "[encoded data removed]",
      "text/plain": [
       "<Figure size 432x288 with 1 Axes>"
      ]
     },
     "metadata": {
      "needs_background": "light"
     },
     "output_type": "display_data"
    }
   ],
   "source": [
    "X_train['Side'] = X_train['Cabin'].str.split('/',expand=True)[2]\n",
    "X_test['Side'] = X_test['Cabin'].str.split('/',expand=True)[2]\n",
    "\n",
    "CrossTabPlot('Side')"
   ]
  },
  {
   "cell_type": "markdown",
   "id": "15b5bc80",
   "metadata": {
    "papermill": {
     "duration": 0.016021,
     "end_time": "2022-09-25T14:40:04.991804",
     "exception": false,
     "start_time": "2022-09-25T14:40:04.975783",
     "status": "completed"
    },
    "tags": []
   },
   "source": [
    "**Conlusion:** People from `Starboard` side has a more chance of transporting than `Port` side. So, Side should be included as a feature. "
   ]
  },
  {
   "cell_type": "code",
   "execution_count": 18,
   "id": "e5b7f601",
   "metadata": {
    "execution": {
     "iopub.execute_input": "2022-09-25T14:40:05.027841Z",
     "iopub.status.busy": "2022-09-25T14:40:05.027352Z",
     "iopub.status.idle": "2022-09-25T14:40:05.040716Z",
     "shell.execute_reply": "2022-09-25T14:40:05.039411Z"
    },
    "papermill": {
     "duration": 0.035151,
     "end_time": "2022-09-25T14:40:05.043517",
     "exception": false,
     "start_time": "2022-09-25T14:40:05.008366",
     "status": "completed"
    },
    "tags": []
   },
   "outputs": [],
   "source": [
    "#dropping Cabin\n",
    "X_train.drop('Cabin',axis=1, inplace= True)\n",
    "X_test.drop('Cabin', axis=1, inplace= True)"
   ]
  },
  {
   "cell_type": "markdown",
   "id": "bd8bf57d",
   "metadata": {
    "papermill": {
     "duration": 0.020095,
     "end_time": "2022-09-25T14:40:05.080153",
     "exception": false,
     "start_time": "2022-09-25T14:40:05.060058",
     "status": "completed"
    },
    "tags": []
   },
   "source": [
    "<a id='Destination'></a>\n",
    "### Exploring Destination"
   ]
  },
  {
   "cell_type": "code",
   "execution_count": 19,
   "id": "d3700cf6",
   "metadata": {
    "execution": {
     "iopub.execute_input": "2022-09-25T14:40:05.116318Z",
     "iopub.status.busy": "2022-09-25T14:40:05.115505Z",
     "iopub.status.idle": "2022-09-25T14:40:05.354628Z",
     "shell.execute_reply": "2022-09-25T14:40:05.353066Z"
    },
    "papermill": {
     "duration": 0.260107,
     "end_time": "2022-09-25T14:40:05.357342",
     "exception": false,
     "start_time": "2022-09-25T14:40:05.097235",
     "status": "completed"
    },
    "tags": []
   },
   "outputs": [
    {
     "name": "stdout",
     "output_type": "stream",
     "text": [
      "Transported    False  True\n",
      "Destination               \n",
      "55 Cancri e      702  1098\n",
      "PSO J318.5-22    395   401\n",
      "TRAPPIST-1e     3128  2787\n"
     ]
    },
    {
     "data": {
      "image/png": "[encoded data removed]",
      "text/plain": [
       "<Figure size 432x288 with 1 Axes>"
      ]
     },
     "metadata": {
      "needs_background": "light"
     },
     "output_type": "display_data"
    }
   ],
   "source": [
    "CrossTabPlot('Destination')"
   ]
  },
  {
   "cell_type": "markdown",
   "id": "6e8859f3",
   "metadata": {
    "papermill": {
     "duration": 0.018432,
     "end_time": "2022-09-25T14:40:05.393930",
     "exception": false,
     "start_time": "2022-09-25T14:40:05.375498",
     "status": "completed"
    },
    "tags": []
   },
   "source": [
    "Destination should be included as a feature"
   ]
  },
  {
   "cell_type": "markdown",
   "id": "43f8f8c6",
   "metadata": {
    "papermill": {
     "duration": 0.016713,
     "end_time": "2022-09-25T14:40:05.427678",
     "exception": false,
     "start_time": "2022-09-25T14:40:05.410965",
     "status": "completed"
    },
    "tags": []
   },
   "source": [
    "<a id='Age'></a>\n",
    "### Exploring Age"
   ]
  },
  {
   "cell_type": "code",
   "execution_count": 20,
   "id": "7182a963",
   "metadata": {
    "execution": {
     "iopub.execute_input": "2022-09-25T14:40:05.466361Z",
     "iopub.status.busy": "2022-09-25T14:40:05.465447Z",
     "iopub.status.idle": "2022-09-25T14:40:05.894120Z",
     "shell.execute_reply": "2022-09-25T14:40:05.892775Z"
    },
    "papermill": {
     "duration": 0.45205,
     "end_time": "2022-09-25T14:40:05.896743",
     "exception": false,
     "start_time": "2022-09-25T14:40:05.444693",
     "status": "completed"
    },
    "tags": []
   },
   "outputs": [
    {
     "data": {
      "image/png": "[encoded data removed]",
      "text/plain": [
       "<Figure size 720x504 with 1 Axes>"
      ]
     },
     "metadata": {
      "needs_background": "light"
     },
     "output_type": "display_data"
    }
   ],
   "source": [
    "HistPlot('Age')"
   ]
  },
  {
   "cell_type": "markdown",
   "id": "a6323049",
   "metadata": {
    "papermill": {
     "duration": 0.017799,
     "end_time": "2022-09-25T14:40:05.932741",
     "exception": false,
     "start_time": "2022-09-25T14:40:05.914942",
     "status": "completed"
    },
    "tags": []
   },
   "source": [
    "Children are more likely to transport. Although After 40, age is not a good indicator to predict Transportation. \n",
    "Still we are keeping age for now. "
   ]
  },
  {
   "cell_type": "code",
   "execution_count": 21,
   "id": "3863315b",
   "metadata": {
    "execution": {
     "iopub.execute_input": "2022-09-25T14:40:05.970870Z",
     "iopub.status.busy": "2022-09-25T14:40:05.970419Z",
     "iopub.status.idle": "2022-09-25T14:40:05.986666Z",
     "shell.execute_reply": "2022-09-25T14:40:05.985371Z"
    },
    "papermill": {
     "duration": 0.038195,
     "end_time": "2022-09-25T14:40:05.989412",
     "exception": false,
     "start_time": "2022-09-25T14:40:05.951217",
     "status": "completed"
    },
    "tags": []
   },
   "outputs": [],
   "source": [
    "X_train.loc[X_train['Age']<17, 'isChild'] = True\n",
    "X_train['isChild'].fillna(False, inplace = True)\n",
    "\n",
    "X_test.loc[X_train['Age']<17, 'isChild'] = True\n",
    "X_test['isChild'].fillna(False, inplace = True)"
   ]
  },
  {
   "cell_type": "markdown",
   "id": "8487ee71",
   "metadata": {
    "papermill": {
     "duration": 0.017376,
     "end_time": "2022-09-25T14:40:06.024212",
     "exception": false,
     "start_time": "2022-09-25T14:40:06.006836",
     "status": "completed"
    },
    "tags": []
   },
   "source": [
    "<a id='Vip'></a>\n",
    "### Exploring Vip Service"
   ]
  },
  {
   "cell_type": "code",
   "execution_count": 22,
   "id": "e9023ec3",
   "metadata": {
    "execution": {
     "iopub.execute_input": "2022-09-25T14:40:06.061798Z",
     "iopub.status.busy": "2022-09-25T14:40:06.061386Z",
     "iopub.status.idle": "2022-09-25T14:40:06.311827Z",
     "shell.execute_reply": "2022-09-25T14:40:06.309635Z"
    },
    "papermill": {
     "duration": 0.272807,
     "end_time": "2022-09-25T14:40:06.314790",
     "exception": false,
     "start_time": "2022-09-25T14:40:06.041983",
     "status": "completed"
    },
    "tags": []
   },
   "outputs": [
    {
     "name": "stdout",
     "output_type": "stream",
     "text": [
      "Transported  False  True\n",
      "VIP                     \n",
      "False         4093  4198\n",
      "True           123    76\n"
     ]
    },
    {
     "data": {
      "text/plain": [
       "<AxesSubplot:xlabel='VIP'>"
      ]
     },
     "execution_count": 22,
     "metadata": {},
     "output_type": "execute_result"
    },
    {
     "data": {
      "image/png": "[encoded data removed]",
      "text/plain": [
       "<Figure size 432x288 with 1 Axes>"
      ]
     },
     "metadata": {
      "needs_background": "light"
     },
     "output_type": "display_data"
    }
   ],
   "source": [
    "crossTabResult = pd.crosstab(index=X_train['VIP'],columns=X_train['Transported'])\n",
    "print(crossTabResult)\n",
    "crossTabResult.plot.bar()"
   ]
  },
  {
   "cell_type": "markdown",
   "id": "f944425d",
   "metadata": {
    "papermill": {
     "duration": 0.018353,
     "end_time": "2022-09-25T14:40:06.352777",
     "exception": false,
     "start_time": "2022-09-25T14:40:06.334424",
     "status": "completed"
    },
    "tags": []
   },
   "source": [
    "**Conclusion:** People without VIP services were more likely to transport than people taking VIP services. So, keeping it as a feature. "
   ]
  },
  {
   "cell_type": "markdown",
   "id": "199f5ca4",
   "metadata": {
    "papermill": {
     "duration": 0.017343,
     "end_time": "2022-09-25T14:40:06.387838",
     "exception": false,
     "start_time": "2022-09-25T14:40:06.370495",
     "status": "completed"
    },
    "tags": []
   },
   "source": [
    "<a id='totalCost'> </a>\n",
    "### Total Luxary Cost"
   ]
  },
  {
   "cell_type": "code",
   "execution_count": 23,
   "id": "81b3b8c4",
   "metadata": {
    "execution": {
     "iopub.execute_input": "2022-09-25T14:40:06.427786Z",
     "iopub.status.busy": "2022-09-25T14:40:06.427314Z",
     "iopub.status.idle": "2022-09-25T14:40:06.866698Z",
     "shell.execute_reply": "2022-09-25T14:40:06.865460Z"
    },
    "papermill": {
     "duration": 0.463346,
     "end_time": "2022-09-25T14:40:06.869449",
     "exception": false,
     "start_time": "2022-09-25T14:40:06.406103",
     "status": "completed"
    },
    "tags": []
   },
   "outputs": [
    {
     "data": {
      "image/png": "[encoded data removed]",
      "text/plain": [
       "<Figure size 720x504 with 1 Axes>"
      ]
     },
     "metadata": {
      "needs_background": "light"
     },
     "output_type": "display_data"
    }
   ],
   "source": [
    "X_train['TotalCost'] = X_train['RoomService']+X_train['FoodCourt']+X_train['ShoppingMall']+X_train['Spa']+X_train['VRDeck']\n",
    "X_test['TotalCost'] = X_test['RoomService']+X_test['FoodCourt']+X_test['ShoppingMall']+X_test['Spa']+X_test['VRDeck']\n",
    "HistPlot('TotalCost')"
   ]
  },
  {
   "cell_type": "markdown",
   "id": "980fcc2d",
   "metadata": {
    "papermill": {
     "duration": 0.018037,
     "end_time": "2022-09-25T14:40:06.906472",
     "exception": false,
     "start_time": "2022-09-25T14:40:06.888435",
     "status": "completed"
    },
    "tags": []
   },
   "source": [
    "People with less luxary cost are more likely to transport. So we will keep each individual cost and also totalCost"
   ]
  },
  {
   "cell_type": "markdown",
   "id": "3afa8ee2",
   "metadata": {
    "papermill": {
     "duration": 0.017709,
     "end_time": "2022-09-25T14:40:06.942296",
     "exception": false,
     "start_time": "2022-09-25T14:40:06.924587",
     "status": "completed"
    },
    "tags": []
   },
   "source": [
    "<a id='missing-values'></a>\n",
    "## Handling Missing values"
   ]
  },
  {
   "cell_type": "code",
   "execution_count": 24,
   "id": "d33d16de",
   "metadata": {
    "execution": {
     "iopub.execute_input": "2022-09-25T14:40:06.980069Z",
     "iopub.status.busy": "2022-09-25T14:40:06.979652Z",
     "iopub.status.idle": "2022-09-25T14:40:06.992594Z",
     "shell.execute_reply": "2022-09-25T14:40:06.991259Z"
    },
    "papermill": {
     "duration": 0.03489,
     "end_time": "2022-09-25T14:40:06.995273",
     "exception": false,
     "start_time": "2022-09-25T14:40:06.960383",
     "status": "completed"
    },
    "tags": []
   },
   "outputs": [
    {
     "name": "stdout",
     "output_type": "stream",
     "text": [
      "PassengerId       0\n",
      "HomePlanet      201\n",
      "CryoSleep       217\n",
      "Destination     182\n",
      "Age             179\n",
      "VIP             203\n",
      "RoomService     181\n",
      "FoodCourt       183\n",
      "ShoppingMall    208\n",
      "Spa             183\n",
      "VRDeck          188\n",
      "Name            200\n",
      "Transported       0\n",
      "Deck            199\n",
      "Side            199\n",
      "isChild           0\n",
      "TotalCost       908\n",
      "dtype: int64\n"
     ]
    }
   ],
   "source": [
    "print(X_train.isnull().sum())"
   ]
  },
  {
   "cell_type": "code",
   "execution_count": 25,
   "id": "8efe223f",
   "metadata": {
    "execution": {
     "iopub.execute_input": "2022-09-25T14:40:07.035213Z",
     "iopub.status.busy": "2022-09-25T14:40:07.034061Z",
     "iopub.status.idle": "2022-09-25T14:40:07.051369Z",
     "shell.execute_reply": "2022-09-25T14:40:07.050153Z"
    },
    "papermill": {
     "duration": 0.039802,
     "end_time": "2022-09-25T14:40:07.054153",
     "exception": false,
     "start_time": "2022-09-25T14:40:07.014351",
     "status": "completed"
    },
    "tags": []
   },
   "outputs": [
    {
     "data": {
      "text/html": [
       "<div>\n",
       "<style scoped>\n",
       "    .dataframe tbody tr th:only-of-type {\n",
       "        vertical-align: middle;\n",
       "    }\n",
       "\n",
       "    .dataframe tbody tr th {\n",
       "        vertical-align: top;\n",
       "    }\n",
       "\n",
       "    .dataframe thead th {\n",
       "        text-align: right;\n",
       "    }\n",
       "</style>\n",
       "<table border=\"1\" class=\"dataframe\">\n",
       "  <thead>\n",
       "    <tr style=\"text-align: right;\">\n",
       "      <th></th>\n",
       "      <th>PassengerId</th>\n",
       "      <th>HomePlanet</th>\n",
       "      <th>CryoSleep</th>\n",
       "      <th>Destination</th>\n",
       "      <th>Age</th>\n",
       "      <th>VIP</th>\n",
       "      <th>RoomService</th>\n",
       "      <th>FoodCourt</th>\n",
       "      <th>ShoppingMall</th>\n",
       "      <th>Spa</th>\n",
       "      <th>VRDeck</th>\n",
       "      <th>Name</th>\n",
       "      <th>Transported</th>\n",
       "      <th>Deck</th>\n",
       "      <th>Side</th>\n",
       "      <th>isChild</th>\n",
       "      <th>TotalCost</th>\n",
       "    </tr>\n",
       "  </thead>\n",
       "  <tbody>\n",
       "  </tbody>\n",
       "</table>\n",
       "</div>"
      ],
      "text/plain": [
       "Empty DataFrame\n",
       "Columns: [PassengerId, HomePlanet, CryoSleep, Destination, Age, VIP, RoomService, FoodCourt, ShoppingMall, Spa, VRDeck, Name, Transported, Deck, Side, isChild, TotalCost]\n",
       "Index: []"
      ]
     },
     "execution_count": 25,
     "metadata": {},
     "output_type": "execute_result"
    }
   ],
   "source": [
    "X_train.loc[(X_train['CryoSleep']==True) & (X_train['TotalCost']>0)] "
   ]
  },
  {
   "cell_type": "markdown",
   "id": "08495062",
   "metadata": {
    "papermill": {
     "duration": 0.018098,
     "end_time": "2022-09-25T14:40:07.091057",
     "exception": false,
     "start_time": "2022-09-25T14:40:07.072959",
     "status": "completed"
    },
    "tags": []
   },
   "source": [
    "People in cryosleep were unable to avail Room service, food court and other services. So, we are going to fill some missing values using that information. "
   ]
  },
  {
   "cell_type": "code",
   "execution_count": 26,
   "id": "25f6e845",
   "metadata": {
    "execution": {
     "iopub.execute_input": "2022-09-25T14:40:07.131770Z",
     "iopub.status.busy": "2022-09-25T14:40:07.130491Z",
     "iopub.status.idle": "2022-09-25T14:40:07.149886Z",
     "shell.execute_reply": "2022-09-25T14:40:07.148483Z"
    },
    "papermill": {
     "duration": 0.042818,
     "end_time": "2022-09-25T14:40:07.152874",
     "exception": false,
     "start_time": "2022-09-25T14:40:07.110056",
     "status": "completed"
    },
    "tags": []
   },
   "outputs": [],
   "source": [
    "# set the missing values of luxary costs 0, where CryoSleep is true. \n",
    "for column in ['RoomService','FoodCourt','ShoppingMall','Spa','VRDeck']:\n",
    "    X_train[column] = X_train[column].fillna(pd.Series(np.where(X_train['CryoSleep']==True,0,np.NaN)))\n",
    "    X_test[column] = X_test[column].fillna(pd.Series(np.where(X_test['CryoSleep']==True,0,np.NaN)))"
   ]
  },
  {
   "cell_type": "code",
   "execution_count": 27,
   "id": "353afbe6",
   "metadata": {
    "execution": {
     "iopub.execute_input": "2022-09-25T14:40:07.192497Z",
     "iopub.status.busy": "2022-09-25T14:40:07.192041Z",
     "iopub.status.idle": "2022-09-25T14:40:07.201498Z",
     "shell.execute_reply": "2022-09-25T14:40:07.200196Z"
    },
    "papermill": {
     "duration": 0.032071,
     "end_time": "2022-09-25T14:40:07.204126",
     "exception": false,
     "start_time": "2022-09-25T14:40:07.172055",
     "status": "completed"
    },
    "tags": []
   },
   "outputs": [],
   "source": [
    "X_train['TotalCost'] = X_train['RoomService']+X_train['FoodCourt']+X_train['ShoppingMall']+X_train['Spa']+X_train['VRDeck']\n",
    "X_test['TotalCost'] = X_test['RoomService']+X_test['FoodCourt']+X_test['ShoppingMall']+X_test['Spa']+X_test['VRDeck']"
   ]
  },
  {
   "cell_type": "code",
   "execution_count": 28,
   "id": "299e5e8b",
   "metadata": {
    "execution": {
     "iopub.execute_input": "2022-09-25T14:40:07.242939Z",
     "iopub.status.busy": "2022-09-25T14:40:07.242527Z",
     "iopub.status.idle": "2022-09-25T14:40:07.255840Z",
     "shell.execute_reply": "2022-09-25T14:40:07.254437Z"
    },
    "papermill": {
     "duration": 0.035621,
     "end_time": "2022-09-25T14:40:07.258365",
     "exception": false,
     "start_time": "2022-09-25T14:40:07.222744",
     "status": "completed"
    },
    "tags": []
   },
   "outputs": [
    {
     "name": "stdout",
     "output_type": "stream",
     "text": [
      "PassengerId       0\n",
      "HomePlanet      201\n",
      "CryoSleep       217\n",
      "Destination     182\n",
      "Age             179\n",
      "VIP             203\n",
      "RoomService     113\n",
      "FoodCourt       113\n",
      "ShoppingMall    112\n",
      "Spa             118\n",
      "VRDeck          126\n",
      "Name            200\n",
      "Transported       0\n",
      "Deck            199\n",
      "Side            199\n",
      "isChild           0\n",
      "TotalCost       561\n",
      "dtype: int64\n"
     ]
    }
   ],
   "source": [
    "print(X_train.isnull().sum())"
   ]
  },
  {
   "cell_type": "markdown",
   "id": "8a137e79",
   "metadata": {
    "papermill": {
     "duration": 0.018261,
     "end_time": "2022-09-25T14:40:07.295287",
     "exception": false,
     "start_time": "2022-09-25T14:40:07.277026",
     "status": "completed"
    },
    "tags": []
   },
   "source": [
    "<a id='Feature'></a>\n",
    "### Final Feature Selection"
   ]
  },
  {
   "cell_type": "code",
   "execution_count": 29,
   "id": "7860f66e",
   "metadata": {
    "execution": {
     "iopub.execute_input": "2022-09-25T14:40:07.336058Z",
     "iopub.status.busy": "2022-09-25T14:40:07.335194Z",
     "iopub.status.idle": "2022-09-25T14:40:07.343279Z",
     "shell.execute_reply": "2022-09-25T14:40:07.342316Z"
    },
    "papermill": {
     "duration": 0.031724,
     "end_time": "2022-09-25T14:40:07.345935",
     "exception": false,
     "start_time": "2022-09-25T14:40:07.314211",
     "status": "completed"
    },
    "tags": []
   },
   "outputs": [],
   "source": [
    "features = ['HomePlanet','CryoSleep','Deck','Side','VIP','RoomService','FoodCourt','ShoppingMall','Spa','VRDeck','TotalCost']\n",
    "features.append('isChild') # dropped 'Age',\n",
    "y = X_train.Transported\n",
    "X_train = X_train[features]"
   ]
  },
  {
   "cell_type": "markdown",
   "id": "ab2cdc26",
   "metadata": {
    "papermill": {
     "duration": 0.018148,
     "end_time": "2022-09-25T14:40:07.382221",
     "exception": false,
     "start_time": "2022-09-25T14:40:07.364073",
     "status": "completed"
    },
    "tags": []
   },
   "source": [
    "<a id='pipeline'></a>\n",
    "### Pipeline"
   ]
  },
  {
   "cell_type": "code",
   "execution_count": 30,
   "id": "6ce80dfa",
   "metadata": {
    "execution": {
     "iopub.execute_input": "2022-09-25T14:40:07.421557Z",
     "iopub.status.busy": "2022-09-25T14:40:07.420825Z",
     "iopub.status.idle": "2022-09-25T14:40:07.432702Z",
     "shell.execute_reply": "2022-09-25T14:40:07.431523Z"
    },
    "papermill": {
     "duration": 0.034578,
     "end_time": "2022-09-25T14:40:07.435256",
     "exception": false,
     "start_time": "2022-09-25T14:40:07.400678",
     "status": "completed"
    },
    "tags": []
   },
   "outputs": [],
   "source": [
    "categorical_pipeline = Pipeline(\n",
    "    steps=[\n",
    "        (\"impute\", SimpleImputer(strategy=\"most_frequent\")),\n",
    "        (\"oh-encode\", OneHotEncoder(handle_unknown=\"ignore\", sparse=False)),\n",
    "    ]\n",
    ")\n",
    "\n",
    "\n",
    "numeric_pipeline = Pipeline(\n",
    "    steps=[(\"impute\", SimpleImputer(strategy=\"mean\")), \n",
    "           (\"scale\", StandardScaler())]\n",
    ")\n",
    "\n",
    "\n",
    "cat_cols = X_train.select_dtypes(exclude=\"number\").columns\n",
    "num_cols = X_train.select_dtypes(include=\"number\").columns\n",
    "\n",
    "preprocessor = ColumnTransformer(\n",
    "    transformers=[\n",
    "        (\"numeric\", numeric_pipeline, num_cols),\n",
    "        (\"categorical\", categorical_pipeline, cat_cols),\n",
    "    ]\n",
    ")"
   ]
  },
  {
   "cell_type": "markdown",
   "id": "ee4f58ac",
   "metadata": {
    "papermill": {
     "duration": 0.018329,
     "end_time": "2022-09-25T14:40:07.472139",
     "exception": false,
     "start_time": "2022-09-25T14:40:07.453810",
     "status": "completed"
    },
    "tags": []
   },
   "source": [
    "<a id='eval'> </a>\n",
    "### Model Evaluation"
   ]
  },
  {
   "cell_type": "code",
   "execution_count": 31,
   "id": "20e90355",
   "metadata": {
    "execution": {
     "iopub.execute_input": "2022-09-25T14:40:07.511593Z",
     "iopub.status.busy": "2022-09-25T14:40:07.510891Z",
     "iopub.status.idle": "2022-09-25T14:40:07.517019Z",
     "shell.execute_reply": "2022-09-25T14:40:07.516116Z"
    },
    "papermill": {
     "duration": 0.028724,
     "end_time": "2022-09-25T14:40:07.519407",
     "exception": false,
     "start_time": "2022-09-25T14:40:07.490683",
     "status": "completed"
    },
    "tags": []
   },
   "outputs": [],
   "source": [
    "def evaluateModel(model):\n",
    "    # Bundle preprocessing and modeling code in a pipeline\n",
    "    my_pipeline = Pipeline(steps=[('preprocessor', preprocessor),('model', model)]) \n",
    "    scores = cross_val_score(my_pipeline, X_train, y,cv=5,scoring='accuracy')\n",
    "    return scores"
   ]
  },
  {
   "cell_type": "code",
   "execution_count": 32,
   "id": "0e7adafa",
   "metadata": {
    "execution": {
     "iopub.execute_input": "2022-09-25T14:40:07.558717Z",
     "iopub.status.busy": "2022-09-25T14:40:07.558015Z",
     "iopub.status.idle": "2022-09-25T14:40:24.568376Z",
     "shell.execute_reply": "2022-09-25T14:40:24.566192Z"
    },
    "papermill": {
     "duration": 17.036034,
     "end_time": "2022-09-25T14:40:24.573885",
     "exception": false,
     "start_time": "2022-09-25T14:40:07.537851",
     "status": "completed"
    },
    "tags": []
   },
   "outputs": [
    {
     "data": {
      "text/html": [
       "<style type='text/css'>\n",
       ".datatable table.frame { margin-bottom: 0; }\n",
       ".datatable table.frame thead { border-bottom: none; }\n",
       ".datatable table.frame tr.coltypes td {  color: #FFFFFF;  line-height: 6px;  padding: 0 0.5em;}\n",
       ".datatable .bool    { background: #DDDD99; }\n",
       ".datatable .object  { background: #565656; }\n",
       ".datatable .int     { background: #5D9E5D; }\n",
       ".datatable .float   { background: #4040CC; }\n",
       ".datatable .str     { background: #CC4040; }\n",
       ".datatable .time    { background: #40CC40; }\n",
       ".datatable .row_index {  background: var(--jp-border-color3);  border-right: 1px solid var(--jp-border-color0);  color: var(--jp-ui-font-color3);  font-size: 9px;}\n",
       ".datatable .frame tbody td { text-align: left; }\n",
       ".datatable .frame tr.coltypes .row_index {  background: var(--jp-border-color0);}\n",
       ".datatable th:nth-child(2) { padding-left: 12px; }\n",
       ".datatable .hellipsis {  color: var(--jp-cell-editor-border-color);}\n",
       ".datatable .vellipsis {  background: var(--jp-layout-color0);  color: var(--jp-cell-editor-border-color);}\n",
       ".datatable .na {  color: var(--jp-cell-editor-border-color);  font-size: 80%;}\n",
       ".datatable .sp {  opacity: 0.25;}\n",
       ".datatable .footer { font-size: 9px; }\n",
       ".datatable .frame_dimensions {  background: var(--jp-border-color3);  border-top: 1px solid var(--jp-border-color0);  color: var(--jp-ui-font-color3);  display: inline-block;  opacity: 0.6;  padding: 1px 10px 1px 5px;}\n",
       "</style>\n"
      ],
      "text/plain": [
       "<IPython.core.display.HTML object>"
      ]
     },
     "metadata": {},
     "output_type": "display_data"
    }
   ],
   "source": [
    "from xgboost import XGBClassifier\n",
    "from sklearn.ensemble import RandomForestClassifier\n",
    "from sklearn.ensemble import AdaBoostClassifier\n",
    "from sklearn.linear_model import LogisticRegression\n",
    "from lightgbm import LGBMClassifier\n",
    "from sklearn.linear_model import SGDClassifier\n",
    "from catboost import CatBoostClassifier\n",
    "models = {}\n",
    "models['XGB'] = XGBClassifier(random_state = 0)\n",
    "models['RF'] = RandomForestClassifier(random_state=0)\n",
    "models['ADA'] = AdaBoostClassifier(random_state=0)\n",
    "models['LR'] = LogisticRegression(random_state=0)\n",
    "models['LGBM'] = LGBMClassifier(random_state=0)\n",
    "models['SGDC'] = SGDClassifier(random_state=0)\n",
    "\n",
    "model_scores = []\n",
    "model_names = []\n",
    "\n",
    "for model_name in models.keys():\n",
    "    model_names.append(model_name)\n",
    "    model_scores.append(evaluateModel(models[model_name]))"
   ]
  },
  {
   "cell_type": "code",
   "execution_count": 33,
   "id": "d0431ef2",
   "metadata": {
    "execution": {
     "iopub.execute_input": "2022-09-25T14:40:24.673379Z",
     "iopub.status.busy": "2022-09-25T14:40:24.672639Z",
     "iopub.status.idle": "2022-09-25T14:40:24.683560Z",
     "shell.execute_reply": "2022-09-25T14:40:24.682302Z"
    },
    "papermill": {
     "duration": 0.063753,
     "end_time": "2022-09-25T14:40:24.686076",
     "exception": false,
     "start_time": "2022-09-25T14:40:24.622323",
     "status": "completed"
    },
    "tags": []
   },
   "outputs": [
    {
     "name": "stdout",
     "output_type": "stream",
     "text": [
      "XGB \t:  0.7978853765010512 \t  0.009559518112192923\n",
      "RF \t:  0.795815419758323 \t  0.015166608405463302\n",
      "ADA \t:  0.7878767144589929 \t  0.010150626095136003\n",
      "LR \t:  0.7884514928953388 \t  0.010954893373305243\n",
      "LGBM \t:  0.7991515963236944 \t  0.013890485311378582\n",
      "SGDC \t:  0.789143596011358 \t  0.015059854786790412\n"
     ]
    }
   ],
   "source": [
    "for model_name, model_score in zip(model_names, model_scores):\n",
    "    print(model_name, '\\t: ',model_score.mean(), '\\t ', model_score.std())"
   ]
  },
  {
   "cell_type": "code",
   "execution_count": 34,
   "id": "87db6f12",
   "metadata": {
    "execution": {
     "iopub.execute_input": "2022-09-25T14:40:24.727189Z",
     "iopub.status.busy": "2022-09-25T14:40:24.726280Z",
     "iopub.status.idle": "2022-09-25T14:40:24.862664Z",
     "shell.execute_reply": "2022-09-25T14:40:24.861170Z"
    },
    "papermill": {
     "duration": 0.163557,
     "end_time": "2022-09-25T14:40:24.868981",
     "exception": false,
     "start_time": "2022-09-25T14:40:24.705424",
     "status": "completed"
    },
    "tags": []
   },
   "outputs": [
    {
     "data": {
      "text/plain": [
       "[]"
      ]
     },
     "execution_count": 34,
     "metadata": {},
     "output_type": "execute_result"
    },
    {
     "data": {
      "image/png": "[encoded data removed]",
      "text/plain": [
       "<Figure size 432x288 with 1 Axes>"
      ]
     },
     "metadata": {
      "needs_background": "light"
     },
     "output_type": "display_data"
    }
   ],
   "source": [
    "# sns.color_palette(\"Paired\")\n",
    "plt.ylim(0.75, 0.82)\n",
    "ax = sns.barplot(data=model_scores, ci= None)\n",
    "ax.set_xticklabels(model_names)\n",
    "plt.plot()"
   ]
  },
  {
   "cell_type": "markdown",
   "id": "4c19d82f",
   "metadata": {
    "papermill": {
     "duration": 0.019085,
     "end_time": "2022-09-25T14:40:24.917045",
     "exception": false,
     "start_time": "2022-09-25T14:40:24.897960",
     "status": "completed"
    },
    "tags": []
   },
   "source": [
    "<a id='fitting'></a>\n",
    "### Model Fitting and Prediction"
   ]
  },
  {
   "cell_type": "code",
   "execution_count": 35,
   "id": "a459c0da",
   "metadata": {
    "execution": {
     "iopub.execute_input": "2022-09-25T14:40:24.960735Z",
     "iopub.status.busy": "2022-09-25T14:40:24.960007Z",
     "iopub.status.idle": "2022-09-25T14:40:24.966679Z",
     "shell.execute_reply": "2022-09-25T14:40:24.965348Z"
    },
    "papermill": {
     "duration": 0.033317,
     "end_time": "2022-09-25T14:40:24.969569",
     "exception": false,
     "start_time": "2022-09-25T14:40:24.936252",
     "status": "completed"
    },
    "tags": []
   },
   "outputs": [],
   "source": [
    "from sklearn.ensemble import VotingClassifier\n",
    "estimators = [('XGB',XGBClassifier(random_state = 0)), ('LGBM',LGBMClassifier(random_state=0)),\n",
    "              ('RF',RandomForestClassifier(random_state=0))]"
   ]
  },
  {
   "cell_type": "code",
   "execution_count": 36,
   "id": "91233675",
   "metadata": {
    "execution": {
     "iopub.execute_input": "2022-09-25T14:40:25.013409Z",
     "iopub.status.busy": "2022-09-25T14:40:25.012490Z",
     "iopub.status.idle": "2022-09-25T14:40:27.456167Z",
     "shell.execute_reply": "2022-09-25T14:40:27.454936Z"
    },
    "papermill": {
     "duration": 2.468283,
     "end_time": "2022-09-25T14:40:27.458500",
     "exception": false,
     "start_time": "2022-09-25T14:40:24.990217",
     "status": "completed"
    },
    "tags": []
   },
   "outputs": [
    {
     "data": {
      "text/plain": [
       "Pipeline(steps=[('preprocessor',\n",
       "                 ColumnTransformer(transformers=[('numeric',\n",
       "                                                  Pipeline(steps=[('impute',\n",
       "                                                                   SimpleImputer()),\n",
       "                                                                  ('scale',\n",
       "                                                                   StandardScaler())]),\n",
       "                                                  Index(['RoomService', 'FoodCourt', 'ShoppingMall', 'Spa', 'VRDeck',\n",
       "       'TotalCost'],\n",
       "      dtype='object')),\n",
       "                                                 ('categorical',\n",
       "                                                  Pipeline(steps=[('impute',\n",
       "                                                                   SimpleImputer(strategy='most_frequent')),\n",
       "                                                                  ('oh-encode',\n",
       "                                                                   OneHotEncoder(h...\n",
       "                                                             max_cat_to_onehot=None,\n",
       "                                                             max_delta_step=None,\n",
       "                                                             max_depth=None,\n",
       "                                                             max_leaves=None,\n",
       "                                                             min_child_weight=None,\n",
       "                                                             missing=nan,\n",
       "                                                             monotone_constraints=None,\n",
       "                                                             n_estimators=100,\n",
       "                                                             n_jobs=None,\n",
       "                                                             num_parallel_tree=None,\n",
       "                                                             predictor=None,\n",
       "                                                             random_state=0,\n",
       "                                                             reg_alpha=None,\n",
       "                                                             reg_lambda=None, ...)),\n",
       "                                              ('LGBM',\n",
       "                                               LGBMClassifier(random_state=0)),\n",
       "                                              ('RF',\n",
       "                                               RandomForestClassifier(random_state=0))],\n",
       "                                  voting='soft'))])"
      ]
     },
     "execution_count": 36,
     "metadata": {},
     "output_type": "execute_result"
    }
   ],
   "source": [
    "my_pipeline = Pipeline(steps=[('preprocessor', preprocessor),('vr', VotingClassifier(estimators, voting ='soft'))]) \n",
    "my_pipeline.fit(X_train, y)"
   ]
  },
  {
   "cell_type": "code",
   "execution_count": 37,
   "id": "43d008da",
   "metadata": {
    "execution": {
     "iopub.execute_input": "2022-09-25T14:40:27.501389Z",
     "iopub.status.busy": "2022-09-25T14:40:27.500930Z",
     "iopub.status.idle": "2022-09-25T14:40:27.508785Z",
     "shell.execute_reply": "2022-09-25T14:40:27.507440Z"
    },
    "papermill": {
     "duration": 0.032417,
     "end_time": "2022-09-25T14:40:27.511348",
     "exception": false,
     "start_time": "2022-09-25T14:40:27.478931",
     "status": "completed"
    },
    "tags": []
   },
   "outputs": [],
   "source": [
    "PassengerIds = X_test['PassengerId']\n",
    "X_test = X_test[features]"
   ]
  },
  {
   "cell_type": "code",
   "execution_count": 38,
   "id": "7fc761de",
   "metadata": {
    "execution": {
     "iopub.execute_input": "2022-09-25T14:40:27.553140Z",
     "iopub.status.busy": "2022-09-25T14:40:27.552385Z",
     "iopub.status.idle": "2022-09-25T14:40:27.730884Z",
     "shell.execute_reply": "2022-09-25T14:40:27.729650Z"
    },
    "papermill": {
     "duration": 0.202969,
     "end_time": "2022-09-25T14:40:27.733686",
     "exception": false,
     "start_time": "2022-09-25T14:40:27.530717",
     "status": "completed"
    },
    "tags": []
   },
   "outputs": [],
   "source": [
    "#submission \n",
    "preds_test = my_pipeline.predict(X_test) \n",
    "preds_test_str = []\n",
    "for i in range(len(preds_test)):\n",
    "    if preds_test[i] == 0:\n",
    "        preds_test_str.append('False')\n",
    "    else:\n",
    "        preds_test_str.append('True')\n",
    "# Save test predictions to file\n",
    "output = pd.DataFrame({'PassengerId': PassengerIds,'Transported': preds_test_str})\n",
    "output.to_csv('submission.csv', index=False)"
   ]
  },
  {
   "cell_type": "code",
   "execution_count": 39,
   "id": "ad7f8850",
   "metadata": {
    "execution": {
     "iopub.execute_input": "2022-09-25T14:40:27.774000Z",
     "iopub.status.busy": "2022-09-25T14:40:27.773532Z",
     "iopub.status.idle": "2022-09-25T14:40:27.788431Z",
     "shell.execute_reply": "2022-09-25T14:40:27.787139Z"
    },
    "papermill": {
     "duration": 0.038542,
     "end_time": "2022-09-25T14:40:27.791458",
     "exception": false,
     "start_time": "2022-09-25T14:40:27.752916",
     "status": "completed"
    },
    "tags": []
   },
   "outputs": [
    {
     "data": {
      "text/html": [
       "<div>\n",
       "<style scoped>\n",
       "    .dataframe tbody tr th:only-of-type {\n",
       "        vertical-align: middle;\n",
       "    }\n",
       "\n",
       "    .dataframe tbody tr th {\n",
       "        vertical-align: top;\n",
       "    }\n",
       "\n",
       "    .dataframe thead th {\n",
       "        text-align: right;\n",
       "    }\n",
       "</style>\n",
       "<table border=\"1\" class=\"dataframe\">\n",
       "  <thead>\n",
       "    <tr style=\"text-align: right;\">\n",
       "      <th></th>\n",
       "      <th>PassengerId</th>\n",
       "      <th>Transported</th>\n",
       "    </tr>\n",
       "  </thead>\n",
       "  <tbody>\n",
       "    <tr>\n",
       "      <th>0</th>\n",
       "      <td>0013_01</td>\n",
       "      <td>True</td>\n",
       "    </tr>\n",
       "    <tr>\n",
       "      <th>1</th>\n",
       "      <td>0018_01</td>\n",
       "      <td>False</td>\n",
       "    </tr>\n",
       "    <tr>\n",
       "      <th>2</th>\n",
       "      <td>0019_01</td>\n",
       "      <td>True</td>\n",
       "    </tr>\n",
       "    <tr>\n",
       "      <th>3</th>\n",
       "      <td>0021_01</td>\n",
       "      <td>True</td>\n",
       "    </tr>\n",
       "    <tr>\n",
       "      <th>4</th>\n",
       "      <td>0023_01</td>\n",
       "      <td>True</td>\n",
       "    </tr>\n",
       "    <tr>\n",
       "      <th>...</th>\n",
       "      <td>...</td>\n",
       "      <td>...</td>\n",
       "    </tr>\n",
       "    <tr>\n",
       "      <th>4272</th>\n",
       "      <td>9266_02</td>\n",
       "      <td>True</td>\n",
       "    </tr>\n",
       "    <tr>\n",
       "      <th>4273</th>\n",
       "      <td>9269_01</td>\n",
       "      <td>False</td>\n",
       "    </tr>\n",
       "    <tr>\n",
       "      <th>4274</th>\n",
       "      <td>9271_01</td>\n",
       "      <td>True</td>\n",
       "    </tr>\n",
       "    <tr>\n",
       "      <th>4275</th>\n",
       "      <td>9273_01</td>\n",
       "      <td>True</td>\n",
       "    </tr>\n",
       "    <tr>\n",
       "      <th>4276</th>\n",
       "      <td>9277_01</td>\n",
       "      <td>True</td>\n",
       "    </tr>\n",
       "  </tbody>\n",
       "</table>\n",
       "<p>4277 rows × 2 columns</p>\n",
       "</div>"
      ],
      "text/plain": [
       "     PassengerId Transported\n",
       "0        0013_01        True\n",
       "1        0018_01       False\n",
       "2        0019_01        True\n",
       "3        0021_01        True\n",
       "4        0023_01        True\n",
       "...          ...         ...\n",
       "4272     9266_02        True\n",
       "4273     9269_01       False\n",
       "4274     9271_01        True\n",
       "4275     9273_01        True\n",
       "4276     9277_01        True\n",
       "\n",
       "[4277 rows x 2 columns]"
      ]
     },
     "execution_count": 39,
     "metadata": {},
     "output_type": "execute_result"
    }
   ],
   "source": [
    "output"
   ]
  },
  {
   "cell_type": "code",
   "execution_count": null,
   "id": "291a9549",
   "metadata": {
    "papermill": {
     "duration": 0.019315,
     "end_time": "2022-09-25T14:40:27.830895",
     "exception": false,
     "start_time": "2022-09-25T14:40:27.811580",
     "status": "completed"
    },
    "tags": []
   },
   "outputs": [],
   "source": []
  }
 ],
 "metadata": {
  "kernelspec": {
   "display_name": "Python 3",
   "language": "python",
   "name": "python3"
  },
  "language_info": {
   "codemirror_mode": {
    "name": "ipython",
    "version": 3
   },
   "file_extension": ".py",
   "mimetype": "text/x-python",
   "name": "python",
   "nbconvert_exporter": "python",
   "pygments_lexer": "ipython3",
   "version": "3.7.12"
  },
  "papermill": {
   "default_parameters": {},
   "duration": 61.023522,
   "end_time": "2022-09-25T14:40:28.774367",
   "environment_variables": {},
   "exception": null,
   "input_path": "__notebook__.ipynb",
   "output_path": "__notebook__.ipynb",
   "parameters": {},
   "start_time": "2022-09-25T14:39:27.750845",
   "version": "2.3.4"
  }
 },
 "nbformat": 4,
 "nbformat_minor": 5
}
