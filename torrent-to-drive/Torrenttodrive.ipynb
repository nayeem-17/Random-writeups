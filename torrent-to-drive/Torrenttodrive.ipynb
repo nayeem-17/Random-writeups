{
  "nbformat": 4,
  "nbformat_minor": 2,
  "metadata": {
    "colab": {
      "name": "Torrenttodrive.ipynb",
      "provenance": [],
      "collapsed_sections": []
    },
    "kernelspec": {
      "display_name": "Python 3",
      "name": "python3"
    },
    "language_info": {
      "name": "python"
    }
  },
  "cells": [
    {
      "cell_type": "code",
      "execution_count": null,
      "source": [
        "from google.colab import drive\n",
        "drive.mount(\"/content/drive/\")\n",
        "\n",
        "!python -m pip install lbry-libtorrent"
      ],
      "outputs": [],
      "metadata": {
        "colab": {
          "base_uri": "https://localhost:8080/"
        },
        "id": "T_IxJiPnYyUb",
        "outputId": "b08bb7f9-5a41-425e-8a1a-a8af0f95ea6c"
      }
    },
    {
      "cell_type": "code",
      "execution_count": null,
      "source": [
        "import libtorrent as lt\n",
        "import time\n",
        "import sys\n",
        "\n",
        "ses = lt.session({'listen_interfaces': '0.0.0.0:6881'})"
      ],
      "outputs": [],
      "metadata": {
        "id": "W3N8ehsaZXn6"
      }
    },
    {
      "cell_type": "code",
      "execution_count": null,
      "source": [
        "path=\"/content/drive/MyDrive/Torrent\"\n",
        "\n",
        "# For torrent file\n",
        "\n",
        "from google.colab import files\n",
        "\n",
        "source = files.upload()\n",
        "params = {\n",
        "    \"save_path\": path,\n",
        "    \"ti\": lt.torrent_info(list(source.keys())[0]),\n",
        "}\n",
        "h=ses.add_torrent(params)\n",
        "s=h.status()\n",
        "\n"
      ],
      "outputs": [],
      "metadata": {
        "id": "9Kal5ubabzkN"
      }
    },
    {
      "cell_type": "code",
      "execution_count": null,
      "source": [
        "# for magnet link\n",
        "\n",
        "# print(\"Enter the magnet link\")\n",
        "# magnet_link = input()\n",
        "# h = lt.add_magnet_uri(ses, magnet_link, {'save_path': path})\n",
        "# s = h.status()"
      ],
      "outputs": [],
      "metadata": {}
    },
    {
      "cell_type": "code",
      "execution_count": null,
      "source": [
        "print('starting', s.name)\n",
        "\n",
        "while (not s.is_seeding):\n",
        "    s = h.status()\n",
        "\n",
        "    print('\\r%.2f%% complete (down: %.1f kB/s up: %.1f kB/s peers: %d) %s' % (\n",
        "        s.progress * 100, s.download_rate / 1000, s.upload_rate / 1000,\n",
        "        s.num_peers, s.state), end=' ')\n",
        "\n",
        "    alerts = ses.pop_alerts()\n",
        "    for a in alerts:\n",
        "        if a.category() & lt.alert.category_t.error_notification:\n",
        "            print(a)\n",
        "\n",
        "    sys.stdout.flush()\n",
        "\n",
        "    time.sleep(1)\n",
        "\n",
        "print(h.status().name, 'complete')\n"
      ],
      "outputs": [],
      "metadata": {
        "colab": {
          "background_save": true,
          "base_uri": "https://localhost:8080/"
        },
        "id": "gXU_SQKUcAIz",
        "outputId": "e1027501-75aa-4b20-e109-2cfad2597c5e"
      }
    }
  ]
}